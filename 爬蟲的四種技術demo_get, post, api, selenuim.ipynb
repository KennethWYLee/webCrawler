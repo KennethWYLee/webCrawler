{
 "cells": [
  {
   "cell_type": "code",
   "execution_count": null,
   "id": "b176c326",
   "metadata": {},
   "outputs": [],
   "source": [
    "# !pip install requests"
   ]
  },
  {
   "cell_type": "markdown",
   "id": "6de82ed0",
   "metadata": {},
   "source": [
    "# 使用requests.get, 網路爬yahoo 財經, 台積電\n",
    "# 回傳為 str"
   ]
  },
  {
   "cell_type": "code",
   "execution_count": 1,
   "id": "fbd334e9",
   "metadata": {},
   "outputs": [],
   "source": [
    "import requests"
   ]
  },
  {
   "cell_type": "code",
   "execution_count": null,
   "id": "e533f7f6",
   "metadata": {},
   "outputs": [],
   "source": [
    "requests.get(\"https://tw.quote.finance.yahoo.net/quote/q?type=tick&perd=1m&mkt=10&sym=2330&callback=jQuery111305063098138341429_1619614443714&_=1619614443715\")"
   ]
  },
  {
   "cell_type": "code",
   "execution_count": null,
   "id": "9c9b8cad",
   "metadata": {},
   "outputs": [],
   "source": [
    "res = requests.get(\"https://tw.quote.finance.yahoo.net/quote/q?type=tick&perd=1m&mkt=10&sym=2330&callback=jQuery111305063098138341429_1619614443714&_=1619614443715\")"
   ]
  },
  {
   "cell_type": "code",
   "execution_count": null,
   "id": "7d23aac0",
   "metadata": {},
   "outputs": [],
   "source": [
    "res.text"
   ]
  },
  {
   "cell_type": "code",
   "execution_count": null,
   "id": "5cc791e6",
   "metadata": {},
   "outputs": [],
   "source": [
    "type(res.text)"
   ]
  },
  {
   "cell_type": "code",
   "execution_count": null,
   "id": "9b2779da",
   "metadata": {},
   "outputs": [],
   "source": [
    "res.text.split(\"{\")"
   ]
  },
  {
   "cell_type": "code",
   "execution_count": null,
   "id": "d59f15a1",
   "metadata": {},
   "outputs": [],
   "source": [
    "\n",
    "for item in res.text.split(\"{\"):\n",
    "    if(\"p\" in item) and (\"v\" in item):\n",
    "        print(item)"
   ]
  },
  {
   "cell_type": "code",
   "execution_count": null,
   "id": "bcb9ab65",
   "metadata": {},
   "outputs": [],
   "source": []
  },
  {
   "cell_type": "markdown",
   "id": "9eb48701",
   "metadata": {},
   "source": [
    "# 使用requests.post, 網路爬台灣高鐵\n",
    "# 回傳為 json"
   ]
  },
  {
   "cell_type": "code",
   "execution_count": null,
   "id": "c459b5ed",
   "metadata": {},
   "outputs": [],
   "source": [
    "payload = {\n",
    "    'SearchType': 'S',\n",
    "    'Lang': 'TW',\n",
    "    'StartStation': 'NanGang',\n",
    "    'EndStation': 'ZuoYing',\n",
    "    'OutWardSearchDate': '2021/04/28',\n",
    "    'OutWardSearchTime': '21:30',\n",
    "    'ReturnSearchDate': '2021/04/28',\n",
    "    'ReturnSearchTime': '21:30',\n",
    "    'DiscountType': ''\n",
    "}"
   ]
  },
  {
   "cell_type": "code",
   "execution_count": null,
   "id": "86554eb0",
   "metadata": {},
   "outputs": [],
   "source": [
    "requests.post(\"https://www.thsrc.com.tw/TimeTable/Search\", data = payload)"
   ]
  },
  {
   "cell_type": "code",
   "execution_count": null,
   "id": "44095453",
   "metadata": {},
   "outputs": [],
   "source": [
    "res = requests.post(\"https://www.thsrc.com.tw/TimeTable/Search\", data = payload)"
   ]
  },
  {
   "cell_type": "code",
   "execution_count": null,
   "id": "43255e0f",
   "metadata": {},
   "outputs": [],
   "source": [
    "res.json()"
   ]
  },
  {
   "cell_type": "code",
   "execution_count": null,
   "id": "1388aede",
   "metadata": {},
   "outputs": [],
   "source": [
    "res.json()['data']"
   ]
  },
  {
   "cell_type": "code",
   "execution_count": null,
   "id": "c05c3947",
   "metadata": {},
   "outputs": [],
   "source": []
  },
  {
   "cell_type": "markdown",
   "id": "20e9f17d",
   "metadata": {},
   "source": [
    "# 使用api 抓取股價, 以 finmind 為例"
   ]
  },
  {
   "cell_type": "code",
   "execution_count": null,
   "id": "4e04cdbe",
   "metadata": {},
   "outputs": [],
   "source": [
    "# !pip install FinMind"
   ]
  },
  {
   "cell_type": "code",
   "execution_count": null,
   "id": "3b51c97e",
   "metadata": {},
   "outputs": [],
   "source": [
    "# 取得還原股價\n",
    "from FinMind.data import DataLoader\n",
    "\n",
    "dl = DataLoader()\n",
    "adj_price = dl.taiwan_stock_daily_adj(\"2330\", \"2018-01-01\", \"2021-03-03\")"
   ]
  },
  {
   "cell_type": "code",
   "execution_count": null,
   "id": "08902866",
   "metadata": {},
   "outputs": [],
   "source": [
    "adj_price"
   ]
  },
  {
   "cell_type": "code",
   "execution_count": null,
   "id": "91972e53",
   "metadata": {},
   "outputs": [],
   "source": [
    "type(adj_price)"
   ]
  },
  {
   "cell_type": "code",
   "execution_count": null,
   "id": "b9214b38",
   "metadata": {},
   "outputs": [],
   "source": [
    "import pandas as pd"
   ]
  },
  {
   "cell_type": "code",
   "execution_count": null,
   "id": "9851ed6d",
   "metadata": {},
   "outputs": [],
   "source": [
    "adj_price[\"date\"]"
   ]
  },
  {
   "cell_type": "code",
   "execution_count": null,
   "id": "f2ecdff9",
   "metadata": {},
   "outputs": [],
   "source": [
    "adj_price[[\"date\", 'open']]"
   ]
  },
  {
   "cell_type": "code",
   "execution_count": null,
   "id": "f7a78863",
   "metadata": {},
   "outputs": [],
   "source": [
    "adj_price.iloc[:, [0, 2]]"
   ]
  },
  {
   "cell_type": "code",
   "execution_count": null,
   "id": "864fd995",
   "metadata": {
    "scrolled": true
   },
   "outputs": [],
   "source": [
    "adj_price.loc[:,['date', 'Trading_Volume']]"
   ]
  },
  {
   "cell_type": "code",
   "execution_count": null,
   "id": "2e8bd75f",
   "metadata": {},
   "outputs": [],
   "source": []
  },
  {
   "cell_type": "markdown",
   "id": "e8363f66",
   "metadata": {},
   "source": [
    "# 使用selenim 抓取學校資料"
   ]
  },
  {
   "cell_type": "code",
   "execution_count": null,
   "id": "b2e1a27c",
   "metadata": {},
   "outputs": [],
   "source": [
    "# ! pip install selenium"
   ]
  },
  {
   "cell_type": "code",
   "execution_count": 2,
   "id": "4f98bea9",
   "metadata": {},
   "outputs": [],
   "source": [
    "from selenium import webdriver"
   ]
  },
  {
   "cell_type": "code",
   "execution_count": 3,
   "id": "e6cfb682",
   "metadata": {},
   "outputs": [],
   "source": [
    "driver = webdriver.Chrome()"
   ]
  },
  {
   "cell_type": "code",
   "execution_count": 4,
   "id": "7c73d898",
   "metadata": {},
   "outputs": [],
   "source": [
    "driver.get(\"http://www.google.com\")"
   ]
  },
  {
   "cell_type": "code",
   "execution_count": 5,
   "id": "148f926f",
   "metadata": {},
   "outputs": [],
   "source": [
    "element = driver.find_element_by_xpath('/html/body/div[1]/div[3]/form/div[1]/div[1]/div[1]/div/div[2]/input')"
   ]
  },
  {
   "cell_type": "code",
   "execution_count": 6,
   "id": "5ff4c05e",
   "metadata": {},
   "outputs": [],
   "source": [
    "element.send_keys('海洋大學')"
   ]
  },
  {
   "cell_type": "code",
   "execution_count": 7,
   "id": "fc6efd0a",
   "metadata": {},
   "outputs": [],
   "source": [
    "button = driver.find_element_by_xpath('/html/body/div[1]/div[3]/form/div[1]/div[1]/div[2]/div[2]/div[2]/center/input[1]')"
   ]
  },
  {
   "cell_type": "code",
   "execution_count": 8,
   "id": "9f5ae886",
   "metadata": {},
   "outputs": [],
   "source": [
    "button.click()"
   ]
  },
  {
   "cell_type": "code",
   "execution_count": 9,
   "id": "e918fbff",
   "metadata": {},
   "outputs": [],
   "source": [
    "button = driver.find_element_by_xpath('//*[@id=\"rso\"]/div[1]/div[1]/div/div/div/div/div[1]/a/h3')"
   ]
  },
  {
   "cell_type": "code",
   "execution_count": 10,
   "id": "1e84d333",
   "metadata": {},
   "outputs": [],
   "source": [
    "button.click()"
   ]
  },
  {
   "cell_type": "code",
   "execution_count": null,
   "id": "fdfce872",
   "metadata": {},
   "outputs": [],
   "source": [
    "from selenium.common.exceptions import NoSuchElementException\n",
    "\n",
    "try:\n",
    "    element=driver.find_element_by_partial_link_text(\"應用經濟研究所\")\n",
    "except NoSuchElementException:\n",
    "    print(\"No element found\")"
   ]
  },
  {
   "cell_type": "code",
   "execution_count": null,
   "id": "3f53c2ce",
   "metadata": {},
   "outputs": [],
   "source": [
    "from selenium.common.exceptions import NoSuchElementException\n",
    "\n",
    "try:\n",
    "    element=driver.find_element_by_partial_link_text(\"學術單位\")\n",
    "except NoSuchElementException:\n",
    "    print(\"No element found\")"
   ]
  },
  {
   "cell_type": "code",
   "execution_count": null,
   "id": "f2ed3126",
   "metadata": {},
   "outputs": [],
   "source": [
    "element.click()"
   ]
  },
  {
   "cell_type": "code",
   "execution_count": null,
   "id": "947c4daf",
   "metadata": {},
   "outputs": [],
   "source": [
    "try:\n",
    "    element=driver.find_element_by_partial_link_text(\"人文社會科學院\")\n",
    "except NoSuchElementException:\n",
    "    print(\"No element found\")"
   ]
  },
  {
   "cell_type": "code",
   "execution_count": 12,
   "id": "3ed4127c",
   "metadata": {},
   "outputs": [],
   "source": [
    "action = webdriver.ActionChains(driver)"
   ]
  },
  {
   "cell_type": "code",
   "execution_count": 16,
   "id": "f0d6bf61",
   "metadata": {},
   "outputs": [],
   "source": [
    "element=driver.find_element_by_partial_link_text(\"學術單位\")\n",
    "action.move_to_element(element)\n",
    "action.perform()"
   ]
  },
  {
   "cell_type": "code",
   "execution_count": 17,
   "id": "0c6727ac",
   "metadata": {},
   "outputs": [],
   "source": [
    "element=driver.find_element_by_partial_link_text(\"人文社會科學院\")\n",
    "action.move_to_element(element)\n",
    "action.perform()"
   ]
  },
  {
   "cell_type": "code",
   "execution_count": 18,
   "id": "db258b38",
   "metadata": {},
   "outputs": [],
   "source": [
    "try:\n",
    "    element=driver.find_element_by_partial_link_text(\"應用經濟研究所\")\n",
    "except NoSuchElementException:\n",
    "    print(\"No element found\")"
   ]
  },
  {
   "cell_type": "code",
   "execution_count": 19,
   "id": "a8857b64",
   "metadata": {},
   "outputs": [],
   "source": [
    "element.click()"
   ]
  },
  {
   "cell_type": "code",
   "execution_count": 37,
   "id": "3a11b098",
   "metadata": {},
   "outputs": [],
   "source": [
    "driver.find_element_by_link_text(\"https://iae.ntou.edu.tw/\").click()"
   ]
  },
  {
   "cell_type": "code",
   "execution_count": 38,
   "id": "6c7d3f68",
   "metadata": {},
   "outputs": [],
   "source": [
    "driver.close()"
   ]
  }
 ],
 "metadata": {
  "kernelspec": {
   "display_name": "Python 3",
   "language": "python",
   "name": "python3"
  },
  "language_info": {
   "codemirror_mode": {
    "name": "ipython",
    "version": 3
   },
   "file_extension": ".py",
   "mimetype": "text/x-python",
   "name": "python",
   "nbconvert_exporter": "python",
   "pygments_lexer": "ipython3",
   "version": "3.8.8"
  }
 },
 "nbformat": 4,
 "nbformat_minor": 5
}
