{
 "cells": [
  {
   "cell_type": "markdown",
   "metadata": {},
   "source": [
    "### 教學1 [Selenium] 如何使用 Selenium 開啟 Chrome 瀏覽器?\n",
    "#### https://www.largitdata.com/course/103/"
   ]
  },
  {
   "cell_type": "code",
   "execution_count": 15,
   "metadata": {},
   "outputs": [],
   "source": [
    "# 安裝 selenium\n",
    "# ! pip install selenium"
   ]
  },
  {
   "cell_type": "code",
   "execution_count": 18,
   "metadata": {},
   "outputs": [],
   "source": [
    "# 下載chrome driver https://chromedriver.chromium.org/downloads"
   ]
  },
  {
   "cell_type": "code",
   "execution_count": 16,
   "metadata": {},
   "outputs": [],
   "source": [
    "from selenium import webdriver"
   ]
  },
  {
   "cell_type": "code",
   "execution_count": 20,
   "metadata": {},
   "outputs": [],
   "source": [
    "driver = webdriver.Chrome(\"C:/Users/USER/Documents/SHU/chromedriver.exe\")"
   ]
  },
  {
   "cell_type": "code",
   "execution_count": 21,
   "metadata": {},
   "outputs": [],
   "source": [
    "driver.get(\"https://www.google.com\")"
   ]
  },
  {
   "cell_type": "code",
   "execution_count": 22,
   "metadata": {},
   "outputs": [],
   "source": [
    "driver.close()"
   ]
  },
  {
   "cell_type": "code",
   "execution_count": null,
   "metadata": {},
   "outputs": [],
   "source": []
  },
  {
   "cell_type": "markdown",
   "metadata": {},
   "source": [
    "### 教學2　[Selenium] 如何使用 Selenium 查找元素定位?\n",
    "### https://www.largitdata.com/course/104/"
   ]
  },
  {
   "cell_type": "code",
   "execution_count": 23,
   "metadata": {},
   "outputs": [],
   "source": [
    "from selenium import webdriver\n",
    "driver = webdriver.Chrome(\"C:/Users/USER/Documents/SHU/chromedriver.exe\")\n",
    "driver.get(\"https://www.google.com\")"
   ]
  },
  {
   "cell_type": "code",
   "execution_count": 33,
   "metadata": {},
   "outputs": [
    {
     "data": {
      "text/plain": [
       "<selenium.webdriver.remote.webelement.WebElement (session=\"d6fd8fbde9de62e335f6da70e74a5ed1\", element=\"0a9386cc-bfeb-4fdd-a0a7-de0602641894\")>"
      ]
     },
     "execution_count": 33,
     "metadata": {},
     "output_type": "execute_result"
    }
   ],
   "source": [
    "driver.find_element_by_class_name(\"gLFyf\")\n",
    "# ID是 gLFyf gsfi, 但是有bug\n",
    "# driver.find_element_by_class_name(\"gLFyf gsfi\")"
   ]
  },
  {
   "cell_type": "code",
   "execution_count": 26,
   "metadata": {},
   "outputs": [
    {
     "data": {
      "text/plain": [
       "<selenium.webdriver.remote.webelement.WebElement (session=\"d6fd8fbde9de62e335f6da70e74a5ed1\", element=\"0a9386cc-bfeb-4fdd-a0a7-de0602641894\")>"
      ]
     },
     "execution_count": 26,
     "metadata": {},
     "output_type": "execute_result"
    }
   ],
   "source": [
    "driver.find_element_by_name(\"q\")"
   ]
  },
  {
   "cell_type": "code",
   "execution_count": 29,
   "metadata": {},
   "outputs": [
    {
     "data": {
      "text/plain": [
       "<selenium.webdriver.remote.webelement.WebElement (session=\"d6fd8fbde9de62e335f6da70e74a5ed1\", element=\"0a9386cc-bfeb-4fdd-a0a7-de0602641894\")>"
      ]
     },
     "execution_count": 29,
     "metadata": {},
     "output_type": "execute_result"
    }
   ],
   "source": [
    "driver.find_element_by_css_selector(\"#tsf > div:nth-child(2) > div.A8SBwf > div.RNNXgb > div > div.a4bIc > input\")"
   ]
  },
  {
   "cell_type": "code",
   "execution_count": 28,
   "metadata": {},
   "outputs": [
    {
     "data": {
      "text/plain": [
       "<selenium.webdriver.remote.webelement.WebElement (session=\"d6fd8fbde9de62e335f6da70e74a5ed1\", element=\"0a9386cc-bfeb-4fdd-a0a7-de0602641894\")>"
      ]
     },
     "execution_count": 28,
     "metadata": {},
     "output_type": "execute_result"
    }
   ],
   "source": [
    "driver.find_element_by_xpath(\"//*[@id=\\\"tsf\\\"]/div[2]/div[1]/div[1]/div/div[2]/input\")"
   ]
  },
  {
   "cell_type": "code",
   "execution_count": 34,
   "metadata": {},
   "outputs": [],
   "source": [
    "driver.close()"
   ]
  },
  {
   "cell_type": "code",
   "execution_count": null,
   "metadata": {},
   "outputs": [],
   "source": []
  },
  {
   "cell_type": "markdown",
   "metadata": {},
   "source": [
    "### 教學3　[Selenium] 如何使用 Selenium 操作網頁元素?\n",
    "### https://www.youtube.com/watch?v=nCYvlciLyiM"
   ]
  },
  {
   "cell_type": "code",
   "execution_count": 49,
   "metadata": {},
   "outputs": [],
   "source": [
    "from selenium import webdriver\n",
    "driver = webdriver.Chrome(\"C:/Users/USER/Documents/SHU/chromedriver.exe\")\n",
    "driver.get(\"https://www.google.com\")"
   ]
  },
  {
   "cell_type": "code",
   "execution_count": 50,
   "metadata": {},
   "outputs": [],
   "source": [
    "e = driver.find_element_by_link_text(\"關於 Google\")"
   ]
  },
  {
   "cell_type": "code",
   "execution_count": 51,
   "metadata": {},
   "outputs": [],
   "source": [
    "# 點擊 e 這個物件\n",
    "e.click()"
   ]
  },
  {
   "cell_type": "code",
   "execution_count": 52,
   "metadata": {},
   "outputs": [],
   "source": [
    "# 返回上一頁\n",
    "driver.back()"
   ]
  },
  {
   "cell_type": "code",
   "execution_count": 53,
   "metadata": {},
   "outputs": [],
   "source": [
    "q = driver.find_element_by_name(\"q\")"
   ]
  },
  {
   "cell_type": "code",
   "execution_count": 54,
   "metadata": {},
   "outputs": [],
   "source": [
    "q.send_keys(\"大數軟體\")"
   ]
  },
  {
   "cell_type": "code",
   "execution_count": 55,
   "metadata": {},
   "outputs": [],
   "source": [
    "from selenium.webdriver.common.keys import Keys\n",
    "q.send_keys(Keys.RETURN)"
   ]
  },
  {
   "cell_type": "code",
   "execution_count": 58,
   "metadata": {},
   "outputs": [
    {
     "data": {
      "text/plain": [
       "<selenium.webdriver.remote.webelement.WebElement (session=\"0e80d832daf9446f219f38617aee0d7b\", element=\"20a79e47-83eb-4f78-b5b7-eba72433a194\")>"
      ]
     },
     "execution_count": 58,
     "metadata": {},
     "output_type": "execute_result"
    }
   ],
   "source": [
    "driver.find_element_by_css_selector(\"#rso a:nth-child(1)\")"
   ]
  },
  {
   "cell_type": "code",
   "execution_count": null,
   "metadata": {},
   "outputs": [],
   "source": [
    "driver.find_element_by_css_selector(\"#rso a:nth-child(1)\").click()"
   ]
  },
  {
   "cell_type": "code",
   "execution_count": 61,
   "metadata": {},
   "outputs": [],
   "source": [
    "driver.close()"
   ]
  },
  {
   "cell_type": "code",
   "execution_count": null,
   "metadata": {},
   "outputs": [],
   "source": []
  },
  {
   "cell_type": "markdown",
   "metadata": {},
   "source": [
    "### 教學4 [Selenium] 如何使用 Selenium 撰寫網路爬蟲?\n",
    "### https://www.largitdata.com/course/106/"
   ]
  },
  {
   "cell_type": "code",
   "execution_count": 62,
   "metadata": {},
   "outputs": [],
   "source": [
    "from selenium import webdriver\n",
    "driver = webdriver.Chrome(\"C:/Users/USER/Documents/SHU/chromedriver.exe\")\n",
    "driver.get(\"https://www.google.com\")"
   ]
  },
  {
   "cell_type": "code",
   "execution_count": 63,
   "metadata": {},
   "outputs": [],
   "source": [
    "q = driver.find_element_by_name(\"q\")\n",
    "q.send_keys(\"大數軟體\")\n",
    "from selenium.webdriver.common.keys import Keys\n",
    "q.send_keys(Keys.RETURN)"
   ]
  },
  {
   "cell_type": "code",
   "execution_count": 75,
   "metadata": {},
   "outputs": [],
   "source": [
    "# ! pip install lxml"
   ]
  },
  {
   "cell_type": "code",
   "execution_count": 143,
   "metadata": {},
   "outputs": [],
   "source": [
    "# import lxml"
   ]
  },
  {
   "cell_type": "code",
   "execution_count": 88,
   "metadata": {},
   "outputs": [],
   "source": [
    "# BeautifulSoup 的教學\n",
    "# https://www.crummy.com/software/BeautifulSoup/bs4/doc/\n",
    "from bs4 import BeautifulSoup\n",
    "soup = BeautifulSoup(driver.page_source,  features = 'html.parser')"
   ]
  },
  {
   "cell_type": "code",
   "execution_count": 113,
   "metadata": {},
   "outputs": [
    {
     "name": "stdout",
     "output_type": "stream",
     "text": [
      "LargitData 大數軟體有限公司InfoMiner 即時輿情分析平台www.largitdata.comwww.largitdata.com頁庫存檔\n",
      "大數軟體有限公司【工作職缺與徵才簡介】104人力銀行m.104.com.tw › 大數軟體有限公司m.104.com.tw › 大數軟體有限公司\n",
      "大數軟體有限公司- YouTubewww.youtube.com › channelwww.youtube.com › channel類似內容\n",
      "大數軟體LargitData - 優質新創人才招募中www.yourator.co › companies › LargitDatawww.yourator.co › companies › LargitData頁庫存檔類似內容\n",
      "大數軟體有限公司【工作職缺及徵才簡介】1111人力銀行www.1111.com.tw › 找工作www.1111.com.tw › 找工作\n",
      "LargitData - 大數軟體- 首頁| Facebookzh-tw.facebook.com › ... › 網站 › 電腦和網路網站zh-tw.facebook.com › ... › 網站 › 電腦和網路網站類似內容\n",
      "丘祐瑋看好趨勢當台灣網路輿情界專家| 大數| 尋找隱形冠軍 ...vision.udn.com › 願景工程 › 尋找隱形冠軍vision.udn.com › 願景工程 › 尋找隱形冠軍頁庫存檔\n",
      "大數軟體有限公司-面試趣interview.tw › ... › 網路及網頁設計服務 › 電子商務interview.tw › ... › 網路及網頁設計服務 › 電子商務頁庫存檔\n",
      "大數軟體有限公司｜ MeetHub - MeetHub｜創業社群交流平台meethub.bnext.com.tw › base › 大數軟體有限公司meethub.bnext.com.tw › base › 大數軟體有限公司頁庫存檔\n"
     ]
    }
   ],
   "source": [
    "for ele in soup.find(id=\"rso\").find_all(\"div\", {\"class\": \"r\"}):\n",
    "    print(ele.text)"
   ]
  },
  {
   "cell_type": "code",
   "execution_count": 129,
   "metadata": {},
   "outputs": [
    {
     "data": {
      "text/plain": [
       "'LargitData 大數軟體有限公司InfoMiner 即時輿情分析平台'"
      ]
     },
     "execution_count": 129,
     "metadata": {},
     "output_type": "execute_result"
    }
   ],
   "source": [
    "soup.find(id=\"rso\").findAll(\"div\", {\"class\": \"r\"})[0].find_all(\"a\")[0].find(\"h3\").text"
   ]
  },
  {
   "cell_type": "code",
   "execution_count": 121,
   "metadata": {
    "scrolled": true
   },
   "outputs": [
    {
     "data": {
      "text/plain": [
       "'https://www.largitdata.com/'"
      ]
     },
     "execution_count": 121,
     "metadata": {},
     "output_type": "execute_result"
    }
   ],
   "source": [
    "soup.find(id=\"rso\").findAll(\"div\", {\"class\": \"r\"})[0].find_all(\"a\")[0][\"href\"]"
   ]
  },
  {
   "cell_type": "code",
   "execution_count": 131,
   "metadata": {},
   "outputs": [
    {
     "name": "stdout",
     "output_type": "stream",
     "text": [
      "網頁LargitData 大數軟體有限公司InfoMiner 即時輿情分析平台\n",
      "網址https://www.largitdata.com/\n",
      "網頁大數軟體有限公司【工作職缺與徵才簡介】104人力銀行\n",
      "網址https://m.104.com.tw/company/1a2x6bjqh6\n",
      "網頁大數軟體有限公司- YouTube\n",
      "網址https://www.youtube.com/channel/UCFdTiwvDjyc62DBWrlYDtlQ\n",
      "網頁大數軟體LargitData - 優質新創人才招募中\n",
      "網址https://www.yourator.co/companies/LargitData\n",
      "網頁大數軟體有限公司【工作職缺及徵才簡介】1111人力銀行\n",
      "網址https://www.1111.com.tw/corp/71602545/\n",
      "網頁LargitData - 大數軟體- 首頁| Facebook\n",
      "網址https://zh-tw.facebook.com/largitdata/\n",
      "網頁丘祐瑋看好趨勢當台灣網路輿情界專家| 大數| 尋找隱形冠軍 ...\n",
      "網址https://vision.udn.com/vision/story/10893/2321180\n",
      "網頁大數軟體有限公司-面試趣\n",
      "網址https://interview.tw/c/kJQE\n",
      "網頁大數軟體有限公司｜ MeetHub - MeetHub｜創業社群交流平台\n",
      "網址https://meethub.bnext.com.tw/base/%E5%A4%A7%E6%95%B8%E8%BB%9F%E9%AB%94%E6%9C%89%E9%99%90%E5%85%AC%E5%8F%B8/\n"
     ]
    }
   ],
   "source": [
    "for ele in soup.find(id=\"rso\").find_all(\"div\", {\"class\": \"r\"}):\n",
    "    print(\"網頁\" + ele.find_all(\"a\")[0].find(\"h3\").text)\n",
    "    print(\"網址\" + ele.find_all(\"a\")[0][\"href\"])"
   ]
  },
  {
   "cell_type": "code",
   "execution_count": 140,
   "metadata": {},
   "outputs": [
    {
     "data": {
      "text/plain": [
       "<selenium.webdriver.remote.webelement.WebElement (session=\"9cb87290c263278e97565e6943437c14\", element=\"69dffbe8-a842-4a9d-9366-2ae87e7b450b\")>"
      ]
     },
     "execution_count": 140,
     "metadata": {},
     "output_type": "execute_result"
    }
   ],
   "source": [
    "driver.find_element_by_partial_link_text(\"下一頁\")"
   ]
  },
  {
   "cell_type": "code",
   "execution_count": 141,
   "metadata": {},
   "outputs": [],
   "source": [
    "driver.find_element_by_partial_link_text(\"下一頁\").click()"
   ]
  },
  {
   "cell_type": "code",
   "execution_count": 144,
   "metadata": {},
   "outputs": [],
   "source": [
    "driver.back()"
   ]
  },
  {
   "cell_type": "code",
   "execution_count": 142,
   "metadata": {},
   "outputs": [],
   "source": [
    "import time"
   ]
  },
  {
   "cell_type": "code",
   "execution_count": 146,
   "metadata": {},
   "outputs": [
    {
     "name": "stdout",
     "output_type": "stream",
     "text": [
      "網頁LargitData 大數軟體有限公司InfoMiner 即時輿情分析平台\n",
      "網頁大數軟體有限公司【工作職缺與徵才簡介】104人力銀行\n",
      "網頁大數軟體有限公司- YouTube\n",
      "網頁大數軟體LargitData - 優質新創人才招募中\n",
      "網頁大數軟體有限公司【工作職缺及徵才簡介】1111人力銀行\n",
      "網頁LargitData - 大數軟體- 首頁| Facebook\n",
      "網頁丘祐瑋看好趨勢當台灣網路輿情界專家| 大數| 尋找隱形冠軍 ...\n",
      "網頁大數軟體有限公司-面試趣\n",
      "網頁大數軟體有限公司｜ MeetHub - MeetHub｜創業社群交流平台\n",
      "網頁大數軟體有限公司\n",
      "網頁丘祐瑋- 如何從輿情大數據探索企業間秘密關係- 2017 台灣人工 ...\n",
      "網頁[Meet創業之星] 輿情分析系統LargitData，幫企業贏得先機 ...\n",
      "網頁大數軟體有限公司- LargitData｜CakeResume 找工作\n",
      "網頁大數軟體有限公司-比薪水\n",
      "網頁破殼而出企業—大數軟體有限公司- 育成加速卓越服務網\n",
      "網頁大數軟體有限公司-歷年決標公告數據分析 - 政府採購資訊網\n",
      "網頁大數軟體有限公司 - 上聯國際展覽有限公司\n",
      "網頁大數軟體有限公司- 台灣採購公報網決標公司資料庫\n",
      "網頁大數軟體(LargitData) X 大數學堂 - GitHub\n",
      "網頁大數軟體有限公司 - BEST\n",
      "網頁大數軟體有限公司得標案件- 開放政府標案\n",
      "網頁Python資料分析與機器學習實戰| TibaMe | 資通訊即學、即戰、即 ...\n",
      "網頁大數軟體有限公司 - 公司登記查詢中心\n",
      "網頁大數軟體有限公司 - 黃頁任意門\n",
      "網頁LargitData - 大數軟體在28 天內發文- 專頁儀表板\n",
      "網頁大數軟體有限公司· 丘祐瑋· 臺北市中山區玉門街1號\n",
      "網頁大數軟體有限公司,負責人:丘祐瑋,地址:臺北市中山區玉門街1號 ...\n",
      "網頁丘祐瑋×大數軟體有限公司×臺北市中山區玉門街1號 ...\n",
      "網頁大數軟體公司徵行政工讀生- Abigail - Blink 佈告欄\n"
     ]
    }
   ],
   "source": [
    "for p in range(3):\n",
    "    time.sleep(2)\n",
    "    soup = BeautifulSoup(driver.page_source,  features = 'html.parser')\n",
    "    for ele in soup.find(id=\"rso\").find_all(\"div\", {\"class\": \"r\"}):\n",
    "        print(\"網頁\" + ele.find_all(\"a\")[0].find(\"h3\").text)\n",
    "    driver.find_element_by_partial_link_text(\"下一頁\").click()"
   ]
  },
  {
   "cell_type": "code",
   "execution_count": 147,
   "metadata": {},
   "outputs": [],
   "source": [
    "driver.close()"
   ]
  },
  {
   "cell_type": "code",
   "execution_count": null,
   "metadata": {},
   "outputs": [],
   "source": []
  },
  {
   "cell_type": "markdown",
   "metadata": {},
   "source": [
    "### 教學5 [Selenium] 如何設定 Selenium 中的隱含等待(Implicit Wait)?\n",
    "### https://www.largitdata.com/course/107/"
   ]
  }
 ],
 "metadata": {
  "kernelspec": {
   "display_name": "Python 3",
   "language": "python",
   "name": "python3"
  },
  "language_info": {
   "codemirror_mode": {
    "name": "ipython",
    "version": 3
   },
   "file_extension": ".py",
   "mimetype": "text/x-python",
   "name": "python",
   "nbconvert_exporter": "python",
   "pygments_lexer": "ipython3",
   "version": "3.7.7"
  }
 },
 "nbformat": 4,
 "nbformat_minor": 2
}
